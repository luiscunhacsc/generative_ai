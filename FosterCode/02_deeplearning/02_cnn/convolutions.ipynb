{
  "cells": [
    {
      "cell_type": "markdown",
      "id": "11a7a456",
      "metadata": {},
      "source": [
        "\n",
        "<a href=\"https://colab.research.google.com/github/luiscunhacsc/generative_ai/blob/main/FosterCode/02_deeplearning/02_cnn/convolutions.ipynb\" target=\"_parent\"><img src=\"https://colab.research.google.com/assets/colab-badge.svg\" alt=\"Open In Colab\"/></a>\n"
      ]
    },
    {
      "cell_type": "markdown",
      "id": "fca09650",
      "metadata": {},
      "source": [
        "\n",
        "Credits:\n",
        "Copyright 2023 David Foster.\n",
        "Foster, D. (2023). Generative deep learning (2nd Ed). O'Reilly.\n",
        "\n",
        "Slightly modified by Luís Simões da Cunha, 2023: mainly to readily run in Google Colab and/or pedagogical reasons.\n",
        "\n",
        "Original repository [retrivable here](https://github.com/davidADSP/Generative_Deep_Learning_2nd_Edition)\n",
        "\n",
        "Licensed under the Apache License, Version 2.0 (the \"License\");\n",
        "you may not use this file except in compliance with the License.\n",
        "You may obtain a copy of the License at https://www.apache.org/licenses/LICENSE-2.0\n"
      ]
    },
    {
      "cell_type": "markdown",
      "metadata": {},
      "source": [
        "# 🎆 Convolutions"
      ]
    },
    {
      "cell_type": "code",
      "execution_count": null,
      "id": "0a26dfe6",
      "metadata": {},
      "outputs": [],
      "source": [
        "\n",
        "import matplotlib.pyplot as plt\n",
        "\n",
        "def sample_batch(dataset):\n",
        "    batch = dataset.take(1).get_single_element()\n",
        "    if isinstance(batch, tuple):\n",
        "        batch = batch[0]\n",
        "    return batch.numpy()\n",
        "\n",
        "def display(\n",
        "    images, n=10, size=(20, 3), cmap=\"gray_r\", as_type=\"float32\", save_to=None\n",
        "):\n",
        "    \"\"\"\n",
        "    Displays n random images from each one of the supplied arrays.\n",
        "    \"\"\"\n",
        "    if images.max() > 1.0:\n",
        "        images = images / 255.0\n",
        "    elif images.min() < 0.0:\n",
        "        images = (images + 1.0) / 2.0\n",
        "\n",
        "    plt.figure(figsize=size)\n",
        "    for i in range(n):\n",
        "        _ = plt.subplot(1, n, i + 1)\n",
        "        plt.imshow(images[i].astype(as_type), cmap=cmap)\n",
        "        plt.axis(\"off\")\n",
        "\n",
        "    if save_to:\n",
        "        plt.savefig(save_to)\n",
        "        print(f\"\\nSaved to {save_to}\")\n",
        "\n",
        "    plt.show()\n"
      ]
    },
    {
      "cell_type": "markdown",
      "metadata": {},
      "source": [
        "## 0. Original Input Image <a name=\"orig\"></a>"
      ]
    },
    {
      "cell_type": "code",
      "execution_count": null,
      "metadata": {},
      "outputs": [],
      "source": [
        "import os\n",
        "\n",
        "def ensure_directories(path, subdirs):\n",
        "    \"\"\"\n",
        "    Ensure that subdirectories exist within the given path. Create them if they don't.\n",
        "\n",
        "    :param path: The path of the main directory\n",
        "    :param subdirs: A list of subdirectories to ensure existence\n",
        "    \"\"\"\n",
        "    for subdir in subdirs:\n",
        "        # Construct the full path for the subdirectory\n",
        "        full_path = os.path.join(path, subdir)\n",
        "        \n",
        "        # Check if the subdirectory exists, create it if not\n",
        "        if not os.path.exists(full_path):\n",
        "            os.makedirs(full_path)\n",
        "            print(f\"Created directory: {full_path}\")\n",
        "        else:\n",
        "            print(f\"Directory already exists: {full_path}\")\n",
        "\n",
        "# Define the list of subdirectories you want to ensure exist\n",
        "subdirs = [\"checkpoint\", \"logs\", \"models\", \"output\"]\n",
        "\n",
        "# Assuming 'notebook_path' is the directory where the notebook is located\n",
        "# You might want to adapt this line to fit the exact path structure of your notebooks\n",
        "notebook_path = os.getcwd()  # Gets the current working directory of the notebook\n",
        "\n",
        "# Ensure the subdirectories exist\n",
        "ensure_directories(notebook_path, subdirs)"
      ]
    },
    {
      "cell_type": "markdown",
      "metadata": {},
      "source": [
        "In this notebook, we'll walk through how convolutional filters can pick out different aspects of an image"
      ]
    },
    {
      "cell_type": "code",
      "execution_count": null,
      "metadata": {},
      "outputs": [],
      "source": [
        "%matplotlib inline\n",
        "import matplotlib.pyplot as plt\n",
        "import numpy as np\n",
        "from skimage import data\n",
        "from skimage.color import rgb2gray\n",
        "from skimage.transform import resize"
      ]
    },
    {
      "cell_type": "code",
      "execution_count": null,
      "metadata": {},
      "outputs": [],
      "source": [
        "im = rgb2gray(data.coffee())\n",
        "im = resize(im, (64, 64))\n",
        "print(im.shape)\n",
        "\n",
        "plt.axis(\"off\")\n",
        "plt.imshow(im, cmap=\"gray\")"
      ]
    },
    {
      "cell_type": "markdown",
      "metadata": {},
      "source": [
        "## Horizontal Edge Filter <a name=\"hor\"></a>"
      ]
    },
    {
      "cell_type": "code",
      "execution_count": null,
      "metadata": {},
      "outputs": [],
      "source": [
        "filter1 = np.array([[1, 1, 1], [0, 0, 0], [-1, -1, -1]])\n",
        "\n",
        "new_image = np.zeros(im.shape)\n",
        "\n",
        "im_pad = np.pad(im, 1, \"constant\")\n",
        "\n",
        "for i in range(im.shape[0]):\n",
        "    for j in range(im.shape[1]):\n",
        "        try:\n",
        "            new_image[i, j] = (\n",
        "                im_pad[i - 1, j - 1] * filter1[0, 0]\n",
        "                + im_pad[i - 1, j] * filter1[0, 1]\n",
        "                + im_pad[i - 1, j + 1] * filter1[0, 2]\n",
        "                + im_pad[i, j - 1] * filter1[1, 0]\n",
        "                + im_pad[i, j] * filter1[1, 1]\n",
        "                + im_pad[i, j + 1] * filter1[1, 2]\n",
        "                + im_pad[i + 1, j - 1] * filter1[2, 0]\n",
        "                + im_pad[i + 1, j] * filter1[2, 1]\n",
        "                + im_pad[i + 1, j + 1] * filter1[2, 2]\n",
        "            )\n",
        "        except:\n",
        "            pass\n",
        "\n",
        "plt.axis(\"off\")\n",
        "plt.imshow(new_image, cmap=\"Greys\")"
      ]
    },
    {
      "cell_type": "markdown",
      "metadata": {},
      "source": [
        "## Vertical Edge Filter <a name=\"ver\"></a>"
      ]
    },
    {
      "cell_type": "code",
      "execution_count": null,
      "metadata": {},
      "outputs": [],
      "source": [
        "filter2 = np.array([[-1, 0, 1], [-1, 0, 1], [-1, 0, 1]])\n",
        "\n",
        "new_image = np.zeros(im.shape)\n",
        "\n",
        "im_pad = np.pad(im, 1, \"constant\")\n",
        "\n",
        "for i in range(im.shape[0]):\n",
        "    for j in range(im.shape[1]):\n",
        "        try:\n",
        "            new_image[i, j] = (\n",
        "                im_pad[i - 1, j - 1] * filter2[0, 0]\n",
        "                + im_pad[i - 1, j] * filter2[0, 1]\n",
        "                + im_pad[i - 1, j + 1] * filter2[0, 2]\n",
        "                + im_pad[i, j - 1] * filter2[1, 0]\n",
        "                + im_pad[i, j] * filter2[1, 1]\n",
        "                + im_pad[i, j + 1] * filter2[1, 2]\n",
        "                + im_pad[i + 1, j - 1] * filter2[2, 0]\n",
        "                + im_pad[i + 1, j] * filter2[2, 1]\n",
        "                + im_pad[i + 1, j + 1] * filter2[2, 2]\n",
        "            )\n",
        "        except:\n",
        "            pass\n",
        "\n",
        "plt.axis(\"off\")\n",
        "plt.imshow(new_image, cmap=\"Greys\")"
      ]
    },
    {
      "cell_type": "markdown",
      "metadata": {},
      "source": [
        "## Horizontal Edge Filter with Stride 2 <a name=\"hor2\"></a>"
      ]
    },
    {
      "cell_type": "code",
      "execution_count": null,
      "metadata": {},
      "outputs": [],
      "source": [
        "filter1 = np.array([[1, 1, 1], [0, 0, 0], [-1, -1, -1]])\n",
        "\n",
        "stride = 2\n",
        "\n",
        "new_image = np.zeros((int(im.shape[0] / stride), int(im.shape[1] / stride)))\n",
        "\n",
        "im_pad = np.pad(im, 1, \"constant\")\n",
        "\n",
        "for i in range(0, im.shape[0], stride):\n",
        "    for j in range(0, im.shape[1], stride):\n",
        "        try:\n",
        "            new_image[int(i / stride), int(j / stride)] = (\n",
        "                im_pad[i - 1, j - 1] * filter1[0, 0]\n",
        "                + im_pad[i - 1, j] * filter1[0, 1]\n",
        "                + im_pad[i - 1, j + 1] * filter1[0, 2]\n",
        "                + im_pad[i, j - 1] * filter1[1, 0]\n",
        "                + im_pad[i, j] * filter1[1, 1]\n",
        "                + im_pad[i, j + 1] * filter1[1, 2]\n",
        "                + im_pad[i + 1, j - 1] * filter1[2, 0]\n",
        "                + im_pad[i + 1, j] * filter1[2, 1]\n",
        "                + im_pad[i + 1, j + 1] * filter1[2, 2]\n",
        "            )\n",
        "        except:\n",
        "            pass\n",
        "\n",
        "plt.axis(\"off\")\n",
        "plt.imshow(new_image, cmap=\"Greys\")"
      ]
    },
    {
      "cell_type": "markdown",
      "metadata": {},
      "source": [
        "## Vertical Edge Filter with Stride 2 <a name=\"ver2\"></a>"
      ]
    },
    {
      "cell_type": "code",
      "execution_count": null,
      "metadata": {},
      "outputs": [],
      "source": [
        "filter2 = np.array([[-1, 0, 1], [-1, 0, 1], [-1, 0, 1]])\n",
        "\n",
        "stride = 2\n",
        "\n",
        "new_image = np.zeros((int(im.shape[0] / stride), int(im.shape[1] / stride)))\n",
        "\n",
        "im_pad = np.pad(im, 1, \"constant\")\n",
        "\n",
        "for i in range(0, im.shape[0], stride):\n",
        "    for j in range(0, im.shape[1], stride):\n",
        "        try:\n",
        "            new_image[int(i / stride), int(j / stride)] = (\n",
        "                im_pad[i - 1, j - 1] * filter2[0, 0]\n",
        "                + im_pad[i - 1, j] * filter2[0, 1]\n",
        "                + im_pad[i - 1, j + 1] * filter2[0, 2]\n",
        "                + im_pad[i, j - 1] * filter2[1, 0]\n",
        "                + im_pad[i, j] * filter2[1, 1]\n",
        "                + im_pad[i, j + 1] * filter2[1, 2]\n",
        "                + im_pad[i + 1, j - 1] * filter2[2, 0]\n",
        "                + im_pad[i + 1, j] * filter2[2, 1]\n",
        "                + im_pad[i + 1, j + 1] * filter2[2, 2]\n",
        "            )\n",
        "        except:\n",
        "            pass\n",
        "\n",
        "plt.axis(\"off\")\n",
        "plt.imshow(new_image, cmap=\"Greys\")"
      ]
    }
  ],
  "metadata": {
    "kernelspec": {
      "display_name": "Python 3 (ipykernel)",
      "language": "python",
      "name": "python3"
    },
    "language_info": {
      "codemirror_mode": {
        "name": "ipython",
        "version": 3
      },
      "file_extension": ".py",
      "mimetype": "text/x-python",
      "name": "python",
      "nbconvert_exporter": "python",
      "pygments_lexer": "ipython3",
      "version": "3.8.10"
    },
    "vscode": {
      "interpreter": {
        "hash": "31f2aee4e71d21fbe5cf8b01ff0e069b9275f58929596ceb00d14d90e3e16cd6"
      }
    }
  },
  "nbformat": 4,
  "nbformat_minor": 4
}